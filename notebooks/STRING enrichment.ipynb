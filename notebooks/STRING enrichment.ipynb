{
 "cells": [
  {
   "cell_type": "markdown",
   "metadata": {},
   "source": [
    "# STRING enrichment analysis"
   ]
  },
  {
   "cell_type": "markdown",
   "metadata": {},
   "source": [
    "In this notebook, we test for enrichment of overlap between detected mutual exclusivities and function interactions according to STRING."
   ]
  },
  {
   "cell_type": "code",
   "execution_count": 1,
   "metadata": {
    "collapsed": true
   },
   "outputs": [],
   "source": [
    "import sys\n",
    "sys.path.append(\"../lib\")"
   ]
  },
  {
   "cell_type": "code",
   "execution_count": 2,
   "metadata": {
    "collapsed": true
   },
   "outputs": [],
   "source": [
    "import numpy"
   ]
  },
  {
   "cell_type": "code",
   "execution_count": 3,
   "metadata": {
    "collapsed": true
   },
   "outputs": [],
   "source": [
    "import sqlite3"
   ]
  },
  {
   "cell_type": "code",
   "execution_count": 4,
   "metadata": {
    "collapsed": true
   },
   "outputs": [],
   "source": [
    "import networkx"
   ]
  },
  {
   "cell_type": "code",
   "execution_count": 5,
   "metadata": {
    "collapsed": false
   },
   "outputs": [],
   "source": [
    "import nbsupport.io\n",
    "import nbsupport.stringdb\n",
    "import nbsupport.util"
   ]
  },
  {
   "cell_type": "code",
   "execution_count": 6,
   "metadata": {
    "collapsed": true
   },
   "outputs": [],
   "source": [
    "DATA_DIR = \"../data\""
   ]
  },
  {
   "cell_type": "markdown",
   "metadata": {},
   "source": [
    "## Download STRING data"
   ]
  },
  {
   "cell_type": "markdown",
   "metadata": {},
   "source": [
    "The code below downloads STRING data files and creates a database containing the functional interaction network."
   ]
  },
  {
   "cell_type": "code",
   "execution_count": 7,
   "metadata": {
    "collapsed": true
   },
   "outputs": [],
   "source": [
    "import urllib"
   ]
  },
  {
   "cell_type": "code",
   "execution_count": 8,
   "metadata": {
    "collapsed": true
   },
   "outputs": [],
   "source": [
    "protein_links_url = \"http://string.embl.de/newstring_download/protein.links.detailed.v10/9606.protein.links.detailed.v10.txt.gz\"\n",
    "protein_aliases_url = \"http://string.embl.de/newstring_download/protein.aliases.v10/9606.protein.aliases.v10.txt.gz\""
   ]
  },
  {
   "cell_type": "code",
   "execution_count": 9,
   "metadata": {
    "collapsed": false
   },
   "outputs": [],
   "source": [
    "filename, respose = urllib.urlretrieve(protein_links_url, \"../data/downloads/9606.protein.links.detailed.v10.txt.gz\")\n",
    "filename, respose = urllib.urlretrieve(protein_aliases_url, \"../data/downloads/9606.protein.aliases.v10.txt.gz\")"
   ]
  },
  {
   "cell_type": "code",
   "execution_count": 10,
   "metadata": {
    "collapsed": true
   },
   "outputs": [],
   "source": [
    "!mkdir {DATA_DIR}/string"
   ]
  },
  {
   "cell_type": "code",
   "execution_count": 11,
   "metadata": {
    "collapsed": false
   },
   "outputs": [],
   "source": [
    "nbsupport.stringdb.create_string_db(\n",
    "    \"../data/string/string.sqlite\",\n",
    "    \"../data/downloads/9606.protein.links.detailed.v10.txt.gz\",\n",
    "    \"../data/downloads/9606.protein.aliases.v10.txt.gz\")"
   ]
  },
  {
   "cell_type": "markdown",
   "metadata": {},
   "source": [
    "## Enrichment analysis"
   ]
  },
  {
   "cell_type": "code",
   "execution_count": 12,
   "metadata": {
    "collapsed": true
   },
   "outputs": [],
   "source": [
    "dataFile = \"../data/tcga/tcga-pancan12.h5\""
   ]
  },
  {
   "cell_type": "code",
   "execution_count": 13,
   "metadata": {
    "collapsed": false
   },
   "outputs": [],
   "source": [
    "result_mutex = nbsupport.io.load_pairwise_result(dataFile, \"/results/mutex\")"
   ]
  },
  {
   "cell_type": "code",
   "execution_count": 14,
   "metadata": {
    "collapsed": false
   },
   "outputs": [],
   "source": [
    "sigPairs = result_mutex.significant_pairs(0.01)"
   ]
  },
  {
   "cell_type": "code",
   "execution_count": 15,
   "metadata": {
    "collapsed": false
   },
   "outputs": [],
   "source": [
    "genes = numpy.char.partition(numpy.asarray(result_mutex.qvalues.index).astype(str), \"_\")[:, 0]"
   ]
  },
  {
   "cell_type": "markdown",
   "metadata": {},
   "source": [
    "The `mutexes` graph contains nodes for all genes used in the mutual exclusivity analysis, and edges connecting genes if their alterations are mutually exclusive."
   ]
  },
  {
   "cell_type": "code",
   "execution_count": 16,
   "metadata": {
    "collapsed": false
   },
   "outputs": [],
   "source": [
    "mutexes = networkx.Graph([\n",
    "        (pair.gene1.split(\"_\")[0], pair.gene2.split(\"_\")[0])\n",
    "        for i, pair in sigPairs.iterrows()])\n",
    "mutexes.add_nodes_from(numpy.unique(genes))"
   ]
  },
  {
   "cell_type": "markdown",
   "metadata": {},
   "source": [
    "The `string` graph contains the STRING functional interaction network based on interactions with a combined score greater than 800."
   ]
  },
  {
   "cell_type": "code",
   "execution_count": 17,
   "metadata": {
    "collapsed": false
   },
   "outputs": [],
   "source": [
    "db = sqlite3.connect(\"../data/string/string.sqlite\")\n",
    "cursor = db.execute(\n",
    "    \"\"\"\n",
    "    SELECT n1.protein_name, n2.protein_name\n",
    "    FROM protein_names AS n1,\n",
    "         protein_names AS n2,\n",
    "         protein_links AS ppi\n",
    "    WHERE n1.protein_id = ppi.protein_id_a\n",
    "      AND n2.protein_id = protein_id_b \n",
    "      AND n1.source = \"BioMart_HUGO\" \n",
    "      AND n2.source = \"BioMart_HUGO\" \n",
    "      AND ppi.combined_score > 800\n",
    "    \"\"\")\n",
    "\n",
    "string = networkx.Graph()\n",
    "string.add_edges_from(cursor)"
   ]
  },
  {
   "cell_type": "markdown",
   "metadata": {},
   "source": [
    "The `stringDeg2` graph connects genes if they have a direct functional interaction, or if they share a common interactor."
   ]
  },
  {
   "cell_type": "code",
   "execution_count": 18,
   "metadata": {
    "collapsed": false
   },
   "outputs": [],
   "source": [
    "stringDeg2 = string.copy()\n",
    "\n",
    "for node in string.nodes_iter():\n",
    "    for neighbour in string.neighbors_iter(node):\n",
    "        for neighbour2 in string.neighbors_iter(neighbour):\n",
    "            stringDeg2.add_edge(node, neighbour2)"
   ]
  },
  {
   "cell_type": "markdown",
   "metadata": {},
   "source": [
    "We can now determine the overlap of the mutually exclusive gene pairs with the graphs `string` and `stringDeg2`."
   ]
  },
  {
   "cell_type": "code",
   "execution_count": 19,
   "metadata": {
    "collapsed": false
   },
   "outputs": [
    {
     "name": "stdout",
     "output_type": "stream",
     "text": [
      "PIK3CA TP53\n",
      "PIK3CA PTEN\n",
      "PIK3CA PIK3R1\n",
      "PIK3CA MYC\n",
      "PIK3CG KRAS\n",
      "CCND1 BCL2L1\n",
      "CCND1 CCNE1\n",
      "CCND1 MYC\n",
      "PTEN ERBB2\n",
      "PTEN TP53\n",
      "CTCF TP53\n",
      "CTCF SIN3A\n",
      "NF1 KRAS\n",
      "EGFR KRAS\n",
      "CTNNB1 TP53\n",
      "CTNNB1 APC\n",
      "HUWE1 TP53\n",
      "MDM2 MDM4\n",
      "CDH1 TP53\n",
      "CDKN2A RB1\n",
      "ARID1A TP53\n",
      "ATM TP53\n",
      "MTOR TP53\n",
      "MTOR KRAS\n",
      "EP300 TP53\n",
      "TP53 KRAS\n",
      "TP53 CASP8\n",
      "TP53 TP53BP1\n",
      "MLLT4 KRAS\n",
      "KRAS NRAS\n",
      "KRAS BRAF\n"
     ]
    }
   ],
   "source": [
    "for gene1, gene2 in mutexes.edges_iter():\n",
    "    if string.has_edge(gene1, gene2):\n",
    "        print gene1, gene2"
   ]
  },
  {
   "cell_type": "code",
   "execution_count": 20,
   "metadata": {
    "collapsed": false
   },
   "outputs": [],
   "source": [
    "numOverlap = sum(string.has_edge(gene1, gene2) for gene1, gene2 in mutexes.edges_iter())"
   ]
  },
  {
   "cell_type": "code",
   "execution_count": 21,
   "metadata": {
    "collapsed": false
   },
   "outputs": [],
   "source": [
    "numOverlapDeg2 = sum(stringDeg2.has_edge(gene1, gene2) for gene1, gene2 in mutexes.edges_iter())"
   ]
  },
  {
   "cell_type": "code",
   "execution_count": 22,
   "metadata": {
    "collapsed": false
   },
   "outputs": [
    {
     "data": {
      "text/plain": [
       "(181, 31, 121)"
      ]
     },
     "execution_count": 62,
     "metadata": {},
     "output_type": "execute_result"
    }
   ],
   "source": [
    "mutexes.number_of_edges(), numOverlap, numOverlapDeg2"
   ]
  },
  {
   "cell_type": "markdown",
   "metadata": {},
   "source": [
    "### Enrichment for direct functional interactions"
   ]
  },
  {
   "cell_type": "code",
   "execution_count": 23,
   "metadata": {
    "collapsed": true
   },
   "outputs": [],
   "source": [
    "def permutedGraph(g):\n",
    "    mapping = dict(zip(g, numpy.random.permutation(g)))\n",
    "    return networkx.relabel_nodes(g, mapping)"
   ]
  },
  {
   "cell_type": "code",
   "execution_count": 24,
   "metadata": {
    "collapsed": true
   },
   "outputs": [],
   "source": [
    "nbsupport.util.set_random_seed()"
   ]
  },
  {
   "cell_type": "markdown",
   "metadata": {},
   "source": [
    "We estimate a null distribution for the observed overlap of mutual exclusivities and functional interactions. To do so, we permute the labels of the `mutex` graph, and compute the overlap of this permuted graph."
   ]
  },
  {
   "cell_type": "code",
   "execution_count": 25,
   "metadata": {
    "collapsed": false
   },
   "outputs": [],
   "source": [
    "nullDist = numpy.array([\n",
    "        sum(string.has_edge(gene1, gene2) for gene1, gene2 in permutedGraph(mutexes).edges_iter())\n",
    "        for i in xrange(10000)])"
   ]
  },
  {
   "cell_type": "code",
   "execution_count": 26,
   "metadata": {
    "collapsed": false
   },
   "outputs": [
    {
     "data": {
      "text/plain": [
       "(31, 4.9432999999999998)"
      ]
     },
     "execution_count": 66,
     "metadata": {},
     "output_type": "execute_result"
    }
   ],
   "source": [
    "numOverlap, nullDist.mean()"
   ]
  },
  {
   "cell_type": "markdown",
   "metadata": {},
   "source": [
    "The proportion of permutations with an overlap at least as high as the observed overlap gives us a $P$-value for the enrichment."
   ]
  },
  {
   "cell_type": "code",
   "execution_count": 27,
   "metadata": {
    "collapsed": false
   },
   "outputs": [
    {
     "data": {
      "text/plain": [
       "0.0"
      ]
     },
     "execution_count": 67,
     "metadata": {},
     "output_type": "execute_result"
    }
   ],
   "source": [
    "numpy.mean(nullDist >= numOverlap)"
   ]
  },
  {
   "cell_type": "code",
   "execution_count": 28,
   "metadata": {
    "collapsed": false
   },
   "outputs": [
    {
     "data": {
      "text/plain": [
       "9.9990000999900015e-05"
      ]
     },
     "execution_count": 68,
     "metadata": {},
     "output_type": "execute_result"
    }
   ],
   "source": [
    "numpy.mean(numpy.append(nullDist, numOverlap) >= numOverlap)"
   ]
  },
  {
   "cell_type": "code",
   "execution_count": 29,
   "metadata": {
    "collapsed": true
   },
   "outputs": [],
   "source": [
    "%matplotlib inline"
   ]
  },
  {
   "cell_type": "code",
   "execution_count": 30,
   "metadata": {
    "collapsed": true
   },
   "outputs": [],
   "source": [
    "import matplotlib.pyplot as plt"
   ]
  },
  {
   "cell_type": "code",
   "execution_count": 31,
   "metadata": {
    "collapsed": false
   },
   "outputs": [
    {
     "data": {
      "text/plain": [
       "<matplotlib.lines.Line2D at 0x7f254e71b310>"
      ]
     },
     "execution_count": 71,
     "metadata": {},
     "output_type": "execute_result"
    },
    {
     "data": {
      "image/png": "[encoded data removed]",
      "text/plain": [
       "<matplotlib.figure.Figure at 0x7f254e71b2d0>"
      ]
     },
     "metadata": {},
     "output_type": "display_data"
    }
   ],
   "source": [
    "plt.hist(nullDist, 20)\n",
    "plt.axvline(numOverlap)"
   ]
  },
  {
   "cell_type": "markdown",
   "metadata": {},
   "source": [
    "### Enrichment for indirect functional interactions"
   ]
  },
  {
   "cell_type": "markdown",
   "metadata": {},
   "source": [
    "We estimate a null distribution in the same way as for the direct interactions, but this time using `stringDeg2` to compute the overlap."
   ]
  },
  {
   "cell_type": "code",
   "execution_count": 32,
   "metadata": {
    "collapsed": false
   },
   "outputs": [],
   "source": [
    "nullDist2 = numpy.array([\n",
    "        sum(stringDeg2.has_edge(gene1, gene2) for gene1, gene2 in permutedGraph(mutexes).edges_iter())\n",
    "        for i in xrange(10000)])"
   ]
  },
  {
   "cell_type": "code",
   "execution_count": 33,
   "metadata": {
    "collapsed": false
   },
   "outputs": [
    {
     "data": {
      "text/plain": [
       "(121, 79.754099999999994)"
      ]
     },
     "execution_count": 73,
     "metadata": {},
     "output_type": "execute_result"
    }
   ],
   "source": [
    "numOverlapDeg2, nullDist2.mean()"
   ]
  },
  {
   "cell_type": "code",
   "execution_count": 34,
   "metadata": {
    "collapsed": false
   },
   "outputs": [
    {
     "data": {
      "text/plain": [
       "0.0026997300269973002"
      ]
     },
     "execution_count": 74,
     "metadata": {},
     "output_type": "execute_result"
    }
   ],
   "source": [
    "numpy.mean(numpy.append(nullDist2, numOverlapDeg2) >= numOverlapDeg2)"
   ]
  },
  {
   "cell_type": "code",
   "execution_count": 35,
   "metadata": {
    "collapsed": false
   },
   "outputs": [
    {
     "data": {
      "text/plain": [
       "<matplotlib.lines.Line2D at 0x7f254bec0690>"
      ]
     },
     "execution_count": 75,
     "metadata": {},
     "output_type": "execute_result"
    },
    {
     "data": {
      "image/png": "[encoded data removed]",
      "text/plain": [
       "<matplotlib.figure.Figure at 0x7f254e705fd0>"
      ]
     },
     "metadata": {},
     "output_type": "display_data"
    }
   ],
   "source": [
    "plt.hist(nullDist2, 20)\n",
    "plt.axvline(numOverlapDeg2)"
   ]
  }
 ],
 "metadata": {
  "kernelspec": {
   "display_name": "Python 2",
   "language": "python",
   "name": "python2"
  },
  "language_info": {
   "codemirror_mode": {
    "name": "ipython",
    "version": 2
   },
   "file_extension": ".py",
   "mimetype": "text/x-python",
   "name": "python",
   "nbconvert_exporter": "python",
   "pygments_lexer": "ipython2",
   "version": "2.7.11"
  }
 },
 "nbformat": 4,
 "nbformat_minor": 0
}
