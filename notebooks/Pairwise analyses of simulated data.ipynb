{
 "cells": [
  {
   "cell_type": "markdown",
   "metadata": {},
   "source": [
    "# Pairwise analyses of simulated data"
   ]
  },
  {
   "cell_type": "markdown",
   "metadata": {},
   "source": [
    "In this notebook, we explore our hypothesis that differences in tumour-specific alteration rates affect the validity of co-occurrence and mutual exclusivity tests that assume independent and identically distributed (i.i.d.) events. To this end, we first generate simulated alteration data that resemble clinical tumours, but do not contain any dependencies between alterations. Next, we add simulated co-occurrences and mutual exclusivities to these data.\n",
    "\n",
    "Based on these simulated data sets, we assess the sensitivity and specificity of two i.i.d. tests&mdash;the Binomial test and Fisher's exact test&mdash;and our DISCOVER test."
   ]
  },
  {
   "cell_type": "code",
   "execution_count": 1,
   "metadata": {
    "collapsed": false
   },
   "outputs": [],
   "source": [
    "%matplotlib inline"
   ]
  },
  {
   "cell_type": "code",
   "execution_count": 2,
   "metadata": {
    "collapsed": true
   },
   "outputs": [],
   "source": [
    "import matplotlib.pyplot as plt"
   ]
  },
  {
   "cell_type": "code",
   "execution_count": 3,
   "metadata": {
    "collapsed": true
   },
   "outputs": [],
   "source": [
    "import sys\n",
    "sys.path.append(\"../lib\")"
   ]
  },
  {
   "cell_type": "code",
   "execution_count": 4,
   "metadata": {
    "collapsed": true
   },
   "outputs": [],
   "source": [
    "import numpy\n",
    "import pandas"
   ]
  },
  {
   "cell_type": "code",
   "execution_count": 5,
   "metadata": {
    "collapsed": false
   },
   "outputs": [],
   "source": [
    "import nbsupport.plots\n",
    "import nbsupport.simulations\n",
    "import nbsupport.util"
   ]
  },
  {
   "cell_type": "code",
   "execution_count": 6,
   "metadata": {
    "collapsed": false
   },
   "outputs": [],
   "source": [
    "nbsupport.util.set_random_seed()"
   ]
  },
  {
   "cell_type": "code",
   "execution_count": 7,
   "metadata": {
    "collapsed": true
   },
   "outputs": [],
   "source": [
    "from discover.util import disableStackLimit\n",
    "disableStackLimit()"
   ]
  },
  {
   "cell_type": "markdown",
   "metadata": {},
   "source": [
    "## Independent alterations"
   ]
  },
  {
   "cell_type": "markdown",
   "metadata": {},
   "source": [
    "We generate a simulated alteration matrix that resembles the copy number data of the TCGA breast cancer tumours. The code below requires that the TCGA data have already been downloaded (see the notebook [Download PanCan12 data](Download PanCan12 data.ipynb))."
   ]
  },
  {
   "cell_type": "code",
   "execution_count": 8,
   "metadata": {
    "collapsed": true
   },
   "outputs": [],
   "source": [
    "dataFile = \"../data/tcga/tcga-pancan12.h5\""
   ]
  },
  {
   "cell_type": "code",
   "execution_count": 9,
   "metadata": {
    "collapsed": true
   },
   "outputs": [],
   "source": [
    "cn = pandas.read_hdf(dataFile, \"/data/BRCA/cn\")"
   ]
  },
  {
   "cell_type": "code",
   "execution_count": 10,
   "metadata": {
    "collapsed": false
   },
   "outputs": [],
   "source": [
    "geneMarginals = (cn == 2).sum(1)\n",
    "sampleMarginals = (cn == 2).sum(0)\n",
    "events = pandas.DataFrame(nbsupport.simulations.generate_independent_alterations(geneMarginals, sampleMarginals))"
   ]
  },
  {
   "cell_type": "markdown",
   "metadata": {},
   "source": [
    "The following plot shows that the alteration frequencies per gene (top plot) and per tumour (bottom plot) in the simulated data resemble those of the breast cancer tumours."
   ]
  },
  {
   "cell_type": "code",
   "execution_count": 11,
   "metadata": {
    "collapsed": false
   },
   "outputs": [
    {
     "data": {
      "image/png": "[encoded data removed]",
      "text/plain": [
       "<matplotlib.figure.Figure at 0x7f806ade1b10>"
      ]
     },
     "metadata": {},
     "output_type": "display_data"
    },
    {
     "data": {
      "image/png": "[encoded data removed]",
      "text/plain": [
       "<matplotlib.figure.Figure at 0x7f805890f910>"
      ]
     },
     "metadata": {},
     "output_type": "display_data"
    }
   ],
   "source": [
    "with nbsupport.plots.use_custom_style():\n",
    "    bins = numpy.linspace(0, max(events.sum(1).max(), (cn == 2).sum(1).max()), 20)\n",
    "    plt.suptitle(\"Gene marginals\")\n",
    "    plt.subplot(121)\n",
    "    plt.title(\"Simulated\")\n",
    "    plt.hist(events.sum(1), bins)\n",
    "    plt.subplot(122, sharex=plt.gca(), sharey=plt.gca())\n",
    "    plt.title(\"TCGA BRCA\")\n",
    "    plt.hist((cn == 2).sum(1), bins)\n",
    "\n",
    "plt.show()\n",
    "\n",
    "with nbsupport.plots.use_custom_style():\n",
    "    bins = numpy.linspace(0, max(events.sum(0).max(), (cn == 2).sum(0).max()), 20)\n",
    "    plt.suptitle(\"Sample marginals\")\n",
    "    plt.subplot(121)\n",
    "    plt.title(\"Simulated\")\n",
    "    plt.hist(events.sum(0), bins)\n",
    "    plt.subplot(122, sharex=plt.gca(), sharey=plt.gca())\n",
    "    plt.title(\"TCGA BRCA\")\n",
    "    plt.hist((cn == 2).sum(0), bins)\n",
    "\n",
    "plt.show()"
   ]
  },
  {
   "cell_type": "code",
   "execution_count": 12,
   "metadata": {
    "collapsed": true
   },
   "outputs": [],
   "source": [
    "genesMinFreq50 = numpy.where(events.sum(1) >= 50)[0]"
   ]
  },
  {
   "cell_type": "code",
   "execution_count": 13,
   "metadata": {
    "collapsed": true
   },
   "outputs": [],
   "source": [
    "import discover"
   ]
  },
  {
   "cell_type": "code",
   "execution_count": 14,
   "metadata": {
    "collapsed": false
   },
   "outputs": [],
   "source": [
    "model0 = discover.DiscoverMatrix(pandas.DataFrame(events))"
   ]
  },
  {
   "cell_type": "code",
   "execution_count": 15,
   "metadata": {
    "collapsed": true
   },
   "outputs": [],
   "source": [
    "import numpy\n",
    "def estimate_binomial_background(events):\n",
    "    return numpy.repeat(events.mean(1)[:, numpy.newaxis], events.shape[1], 1)"
   ]
  },
  {
   "cell_type": "code",
   "execution_count": 16,
   "metadata": {
    "collapsed": false
   },
   "outputs": [],
   "source": [
    "modelBinom0 = discover.DiscoverMatrix(\n",
    "    pandas.DataFrame(events),\n",
    "    pandas.DataFrame(estimate_binomial_background(events)))"
   ]
  },
  {
   "cell_type": "code",
   "execution_count": 17,
   "metadata": {
    "collapsed": true
   },
   "outputs": [],
   "source": [
    "nullGenes1 = numpy.random.choice(genesMinFreq50, len(genesMinFreq50) / 2, False)\n",
    "nullGenes2 = numpy.setdiff1d(genesMinFreq50, nullGenes1)"
   ]
  },
  {
   "cell_type": "code",
   "execution_count": 18,
   "metadata": {
    "collapsed": true
   },
   "outputs": [],
   "source": [
    "group = numpy.repeat([0, 1], [len(nullGenes1), len(nullGenes2)])"
   ]
  },
  {
   "cell_type": "markdown",
   "metadata": {},
   "source": [
    "### Testing for mutual exclusivities"
   ]
  },
  {
   "cell_type": "markdown",
   "metadata": {},
   "source": [
    "We first test for mutual exclusivity using the DISCOVER test."
   ]
  },
  {
   "cell_type": "code",
   "execution_count": 19,
   "metadata": {
    "collapsed": false
   },
   "outputs": [],
   "source": [
    "result_mutex0_poisbinom = discover.pairwise_discover_test(model0[numpy.r_[nullGenes1, nullGenes2]], group)"
   ]
  },
  {
   "cell_type": "code",
   "execution_count": 20,
   "metadata": {
    "collapsed": false
   },
   "outputs": [
    {
     "data": {
      "image/png": "[encoded data removed]",
      "text/plain": [
       "<matplotlib.figure.Figure at 0x7f8058848590>"
      ]
     },
     "metadata": {},
     "output_type": "display_data"
    }
   ],
   "source": [
    "with nbsupport.plots.use_custom_style():\n",
    "    plt.hist(numpy.diag(result_mutex0_poisbinom.pvalues.values[:len(nullGenes1), len(nullGenes1):]), 20)"
   ]
  },
  {
   "cell_type": "markdown",
   "metadata": {},
   "source": [
    "And next using the Binomial test."
   ]
  },
  {
   "cell_type": "code",
   "execution_count": 21,
   "metadata": {
    "collapsed": false
   },
   "outputs": [],
   "source": [
    "result_mutex0_binom = discover.pairwise_discover_test(modelBinom0[numpy.r_[nullGenes1, nullGenes2]], group)"
   ]
  },
  {
   "cell_type": "code",
   "execution_count": 22,
   "metadata": {
    "collapsed": false
   },
   "outputs": [
    {
     "data": {
      "image/png": "[encoded data removed]",
      "text/plain": [
       "<matplotlib.figure.Figure at 0x7f80587de2d0>"
      ]
     },
     "metadata": {},
     "output_type": "display_data"
    }
   ],
   "source": [
    "with nbsupport.plots.use_custom_style():\n",
    "    plt.hist(numpy.diag(result_mutex0_binom.pvalues.values[:len(nullGenes1), len(nullGenes1):]), 20)"
   ]
  },
  {
   "cell_type": "markdown",
   "metadata": {},
   "source": [
    "### Testing for co-occurrences"
   ]
  },
  {
   "cell_type": "markdown",
   "metadata": {},
   "source": [
    "Then we test for co-occurrence using the DISCOVER test."
   ]
  },
  {
   "cell_type": "code",
   "execution_count": 23,
   "metadata": {
    "collapsed": false
   },
   "outputs": [],
   "source": [
    "result_cooc0_poisbinom = discover.pairwise_discover_test(model0[numpy.r_[nullGenes1, nullGenes2]], group, \"greater\")"
   ]
  },
  {
   "cell_type": "code",
   "execution_count": 24,
   "metadata": {
    "collapsed": false
   },
   "outputs": [
    {
     "data": {
      "image/png": "[encoded data removed]",
      "text/plain": [
       "<matplotlib.figure.Figure at 0x7f805b114050>"
      ]
     },
     "metadata": {},
     "output_type": "display_data"
    }
   ],
   "source": [
    "with nbsupport.plots.use_custom_style():\n",
    "    plt.hist(numpy.diag(result_cooc0_poisbinom.pvalues.values[:len(nullGenes1), len(nullGenes1):]), 20)"
   ]
  },
  {
   "cell_type": "markdown",
   "metadata": {},
   "source": [
    "And using the Binomial test."
   ]
  },
  {
   "cell_type": "code",
   "execution_count": 25,
   "metadata": {
    "collapsed": false
   },
   "outputs": [],
   "source": [
    "result_cooc0_binom = discover.pairwise_discover_test(modelBinom0[numpy.r_[nullGenes1, nullGenes2]], group, \"greater\")"
   ]
  },
  {
   "cell_type": "code",
   "execution_count": 26,
   "metadata": {
    "collapsed": false
   },
   "outputs": [
    {
     "data": {
      "image/png": "[encoded data removed]",
      "text/plain": [
       "<matplotlib.figure.Figure at 0x7f805b6b4210>"
      ]
     },
     "metadata": {},
     "output_type": "display_data"
    }
   ],
   "source": [
    "with nbsupport.plots.use_custom_style():\n",
    "    plt.hist(numpy.diag(result_cooc0_binom.pvalues.values[:len(nullGenes1), len(nullGenes1):]), 20)"
   ]
  },
  {
   "cell_type": "markdown",
   "metadata": {},
   "source": [
    "## Mutual exclusivities"
   ]
  },
  {
   "cell_type": "markdown",
   "metadata": {},
   "source": [
    "Now we add simulated mutual exclusivities to the alteration matrix."
   ]
  },
  {
   "cell_type": "code",
   "execution_count": 27,
   "metadata": {
    "collapsed": false
   },
   "outputs": [],
   "source": [
    "eventsWithMutex, indexes = nbsupport.simulations.add_mutual_exclusivities(events)"
   ]
  },
  {
   "cell_type": "markdown",
   "metadata": {},
   "source": [
    "We test for mutual exclusivity using the DISCOVER test."
   ]
  },
  {
   "cell_type": "code",
   "execution_count": 28,
   "metadata": {
    "collapsed": true
   },
   "outputs": [],
   "source": [
    "modelMutex = discover.DiscoverMatrix(pandas.DataFrame(eventsWithMutex))"
   ]
  },
  {
   "cell_type": "code",
   "execution_count": 29,
   "metadata": {
    "collapsed": false
   },
   "outputs": [],
   "source": [
    "groupMutex = numpy.repeat([0, 1], 500)"
   ]
  },
  {
   "cell_type": "code",
   "execution_count": 30,
   "metadata": {
    "collapsed": false
   },
   "outputs": [],
   "source": [
    "result_mutex_poisbinom = discover.pairwise_discover_test(modelMutex[numpy.r_[indexes[:, 0], indexes[:, 1]]], groupMutex)"
   ]
  },
  {
   "cell_type": "code",
   "execution_count": 31,
   "metadata": {
    "collapsed": false
   },
   "outputs": [
    {
     "data": {
      "image/png": "[encoded data removed]",
      "text/plain": [
       "<matplotlib.figure.Figure at 0x7f805b52c450>"
      ]
     },
     "metadata": {},
     "output_type": "display_data"
    }
   ],
   "source": [
    "with nbsupport.plots.use_custom_style():\n",
    "    plt.hist(numpy.diag(result_mutex_poisbinom.pvalues.values[:len(indexes), len(indexes):]), 20)\n",
    "    plt.xlim(0, 1)"
   ]
  },
  {
   "cell_type": "markdown",
   "metadata": {},
   "source": [
    "And using the Binomial test."
   ]
  },
  {
   "cell_type": "code",
   "execution_count": 32,
   "metadata": {
    "collapsed": false
   },
   "outputs": [],
   "source": [
    "modelMutexBinom = discover.DiscoverMatrix(\n",
    "    pandas.DataFrame(eventsWithMutex),\n",
    "    pandas.DataFrame(estimate_binomial_background(eventsWithMutex)))"
   ]
  },
  {
   "cell_type": "code",
   "execution_count": 33,
   "metadata": {
    "collapsed": false
   },
   "outputs": [],
   "source": [
    "result_mutex_binom = discover.pairwise_discover_test(modelMutexBinom[numpy.r_[indexes[:, 0], indexes[:, 1]]], groupMutex)"
   ]
  },
  {
   "cell_type": "code",
   "execution_count": 34,
   "metadata": {
    "collapsed": false
   },
   "outputs": [
    {
     "data": {
      "image/png": "[encoded data removed]",
      "text/plain": [
       "<matplotlib.figure.Figure at 0x7f7fb765a6d0>"
      ]
     },
     "metadata": {},
     "output_type": "display_data"
    }
   ],
   "source": [
    "with nbsupport.plots.use_custom_style():\n",
    "    plt.hist(numpy.diag(result_mutex_binom.pvalues.values[:len(indexes), len(indexes):]), 20)\n",
    "    plt.xlim(0, 1)"
   ]
  },
  {
   "cell_type": "markdown",
   "metadata": {},
   "source": [
    "## Co-occurrences"
   ]
  },
  {
   "cell_type": "markdown",
   "metadata": {},
   "source": [
    "Next, we add simulated co-occurrences to the alteration matrix."
   ]
  },
  {
   "cell_type": "code",
   "execution_count": 35,
   "metadata": {
    "collapsed": false
   },
   "outputs": [],
   "source": [
    "eventsWithCooc, coocIndexes = nbsupport.simulations.add_cooccurrences(events)"
   ]
  },
  {
   "cell_type": "markdown",
   "metadata": {},
   "source": [
    "We test for co-occurrence using the DISCOVER test."
   ]
  },
  {
   "cell_type": "code",
   "execution_count": 36,
   "metadata": {
    "collapsed": true
   },
   "outputs": [],
   "source": [
    "modelCooc = discover.DiscoverMatrix(pandas.DataFrame(eventsWithCooc))"
   ]
  },
  {
   "cell_type": "code",
   "execution_count": 37,
   "metadata": {
    "collapsed": true
   },
   "outputs": [],
   "source": [
    "groupCooc = numpy.repeat([0, 1], 500)"
   ]
  },
  {
   "cell_type": "code",
   "execution_count": 38,
   "metadata": {
    "collapsed": false
   },
   "outputs": [],
   "source": [
    "result_cooc_poisbinom = discover.pairwise_discover_test(modelCooc[numpy.r_[coocIndexes[:, 0], coocIndexes[:, 1]]], groupCooc, \"greater\")"
   ]
  },
  {
   "cell_type": "code",
   "execution_count": 39,
   "metadata": {
    "collapsed": false
   },
   "outputs": [
    {
     "data": {
      "image/png": "[encoded data removed]",
      "text/plain": [
       "<matplotlib.figure.Figure at 0x7f805b127490>"
      ]
     },
     "metadata": {},
     "output_type": "display_data"
    }
   ],
   "source": [
    "with nbsupport.plots.use_custom_style():\n",
    "    bins = numpy.linspace(0, 1, 20)\n",
    "    plt.hist(numpy.diag(result_cooc_poisbinom.pvalues.values[:len(coocIndexes), len(coocIndexes):]), bins)"
   ]
  },
  {
   "cell_type": "markdown",
   "metadata": {},
   "source": [
    "And using the Binomial test."
   ]
  },
  {
   "cell_type": "code",
   "execution_count": 40,
   "metadata": {
    "collapsed": false
   },
   "outputs": [],
   "source": [
    "modelCoocBinom = discover.DiscoverMatrix(\n",
    "    pandas.DataFrame(eventsWithCooc),\n",
    "    pandas.DataFrame(estimate_binomial_background(eventsWithCooc)))"
   ]
  },
  {
   "cell_type": "code",
   "execution_count": 41,
   "metadata": {
    "collapsed": false
   },
   "outputs": [],
   "source": [
    "result_cooc_binom = discover.pairwise_discover_test(modelCoocBinom[numpy.r_[coocIndexes[:, 0], coocIndexes[:, 1]]], groupCooc, \"greater\")"
   ]
  },
  {
   "cell_type": "code",
   "execution_count": 42,
   "metadata": {
    "collapsed": false
   },
   "outputs": [
    {
     "data": {
      "image/png": "[encoded data removed]",
      "text/plain": [
       "<matplotlib.figure.Figure at 0x7f805b5f3490>"
      ]
     },
     "metadata": {},
     "output_type": "display_data"
    }
   ],
   "source": [
    "with nbsupport.plots.use_custom_style():\n",
    "    bins = numpy.linspace(0, 1, 20)\n",
    "    plt.hist(numpy.diag(result_cooc_binom.pvalues.values[:len(coocIndexes), len(coocIndexes):]), bins)"
   ]
  },
  {
   "cell_type": "markdown",
   "metadata": {},
   "source": [
    "## Fisher's exact test"
   ]
  },
  {
   "cell_type": "markdown",
   "metadata": {},
   "source": [
    "To illustrate that the issues observed with the Binomial test also affect Fisher's exact test, we repeat the same analyses below, this time using Fisher's exact test."
   ]
  },
  {
   "cell_type": "code",
   "execution_count": 43,
   "metadata": {
    "collapsed": true
   },
   "outputs": [],
   "source": [
    "import scipy.stats"
   ]
  },
  {
   "cell_type": "markdown",
   "metadata": {},
   "source": [
    "Testing for co-occurrence in independent alterations."
   ]
  },
  {
   "cell_type": "code",
   "execution_count": 44,
   "metadata": {
    "collapsed": false
   },
   "outputs": [],
   "source": [
    "pCoocFisher0 = numpy.array([\n",
    "        scipy.stats.fisher_exact(numpy.histogram2d(events.values[gene1], events.values[gene2], 2)[0], \"greater\")[1]\n",
    "        for gene1, gene2 in zip(nullGenes1, nullGenes2)])"
   ]
  },
  {
   "cell_type": "code",
   "execution_count": 45,
   "metadata": {
    "collapsed": false
   },
   "outputs": [
    {
     "data": {
      "image/png": "[encoded data removed]",
      "text/plain": [
       "<matplotlib.figure.Figure at 0x7f8058474250>"
      ]
     },
     "metadata": {},
     "output_type": "display_data"
    }
   ],
   "source": [
    "with nbsupport.plots.use_custom_style():\n",
    "    plt.hist(pCoocFisher0, numpy.linspace(0, 1, 21))"
   ]
  },
  {
   "cell_type": "markdown",
   "metadata": {},
   "source": [
    "Testing for mutual exclusivity in independent data."
   ]
  },
  {
   "cell_type": "code",
   "execution_count": 46,
   "metadata": {
    "collapsed": false
   },
   "outputs": [],
   "source": [
    "pMutexFisher0 = numpy.array([\n",
    "        scipy.stats.fisher_exact(numpy.histogram2d(events.values[gene1], events.values[gene2], 2)[0], \"less\")[1]\n",
    "        for gene1, gene2 in zip(nullGenes1, nullGenes2)])"
   ]
  },
  {
   "cell_type": "code",
   "execution_count": 47,
   "metadata": {
    "collapsed": false
   },
   "outputs": [
    {
     "data": {
      "image/png": "[encoded data removed]",
      "text/plain": [
       "<matplotlib.figure.Figure at 0x7f805b301b50>"
      ]
     },
     "metadata": {},
     "output_type": "display_data"
    }
   ],
   "source": [
    "with nbsupport.plots.use_custom_style():\n",
    "    plt.hist(pMutexFisher0, numpy.linspace(0, 1, 21))"
   ]
  },
  {
   "cell_type": "markdown",
   "metadata": {},
   "source": [
    "Testing for co-occurrence in co-occurring gene pairs."
   ]
  },
  {
   "cell_type": "code",
   "execution_count": 48,
   "metadata": {
    "collapsed": false
   },
   "outputs": [],
   "source": [
    "pCoocFisher = numpy.array([\n",
    "        scipy.stats.fisher_exact(numpy.histogram2d(eventsWithCooc[gene1], eventsWithCooc[gene2], 2)[0], \"greater\")[1]\n",
    "        for gene1, gene2 in coocIndexes])"
   ]
  },
  {
   "cell_type": "code",
   "execution_count": 49,
   "metadata": {
    "collapsed": false
   },
   "outputs": [
    {
     "data": {
      "image/png": "[encoded data removed]",
      "text/plain": [
       "<matplotlib.figure.Figure at 0x7f8058b0cd10>"
      ]
     },
     "metadata": {},
     "output_type": "display_data"
    }
   ],
   "source": [
    "with nbsupport.plots.use_custom_style():\n",
    "    plt.hist(pCoocFisher, numpy.linspace(0, 1, 21))"
   ]
  },
  {
   "cell_type": "markdown",
   "metadata": {},
   "source": [
    "Testing for mutual exclusivity in mutually exclusive gene pairs."
   ]
  },
  {
   "cell_type": "code",
   "execution_count": 50,
   "metadata": {
    "collapsed": false
   },
   "outputs": [],
   "source": [
    "pMutexFisher = numpy.array([\n",
    "        scipy.stats.fisher_exact(numpy.histogram2d(eventsWithMutex[gene1], eventsWithMutex[gene2], 2)[0], \"less\")[1]\n",
    "        for gene1, gene2 in indexes])"
   ]
  },
  {
   "cell_type": "code",
   "execution_count": 51,
   "metadata": {
    "collapsed": false
   },
   "outputs": [
    {
     "data": {
      "image/png": "[encoded data removed]",
      "text/plain": [
       "<matplotlib.figure.Figure at 0x7f80587fbc10>"
      ]
     },
     "metadata": {},
     "output_type": "display_data"
    }
   ],
   "source": [
    "with nbsupport.plots.use_custom_style():\n",
    "    plt.hist(pMutexFisher, numpy.linspace(0, 1, 21))"
   ]
  },
  {
   "cell_type": "markdown",
   "metadata": {},
   "source": [
    "## Similar alteration rates"
   ]
  },
  {
   "cell_type": "markdown",
   "metadata": {},
   "source": [
    "Finally, we show that the Binomial test does not have problems if the alteration rates per tumour are more homogeneous."
   ]
  },
  {
   "cell_type": "code",
   "execution_count": 52,
   "metadata": {
    "collapsed": true
   },
   "outputs": [],
   "source": [
    "iidEvents = numpy.row_stack([\n",
    "        numpy.random.permutation(row == 2).astype(int)\n",
    "        for row in cn.values])"
   ]
  },
  {
   "cell_type": "markdown",
   "metadata": {},
   "source": [
    "The following plot shows that the alteration frequences per gene still resemble those of the TCGA breast tumours. In contrast, the alteration frequencies per tumour are much more homogeneous than in the breast cancer data."
   ]
  },
  {
   "cell_type": "code",
   "execution_count": 53,
   "metadata": {
    "collapsed": false
   },
   "outputs": [
    {
     "data": {
      "image/png": "[encoded data removed]",
      "text/plain": [
       "<matplotlib.figure.Figure at 0x7f805b6af710>"
      ]
     },
     "metadata": {},
     "output_type": "display_data"
    },
    {
     "data": {
      "image/png": "[encoded data removed]",
      "text/plain": [
       "<matplotlib.figure.Figure at 0x7f805862fc50>"
      ]
     },
     "metadata": {},
     "output_type": "display_data"
    }
   ],
   "source": [
    "with nbsupport.plots.use_custom_style():\n",
    "    bins = numpy.linspace(0, max(iidEvents.sum(1).max(), (cn == 2).sum(1).max()), 20)\n",
    "    plt.suptitle(\"Gene marginals\")\n",
    "    plt.subplot(121)\n",
    "    plt.title(\"Simulated\")\n",
    "    plt.hist(iidEvents.sum(1), bins)\n",
    "    plt.subplot(122, sharex=plt.gca(), sharey=plt.gca())\n",
    "    plt.title(\"TCGA BRCA\")\n",
    "    plt.hist((cn == 2).sum(1), bins)\n",
    "\n",
    "plt.show()\n",
    "\n",
    "with nbsupport.plots.use_custom_style():\n",
    "    bins = numpy.linspace(0, max(iidEvents.sum(0).max(), (cn == 2).sum(0).max()), 20)\n",
    "    plt.suptitle(\"Sample marginals\")\n",
    "    plt.subplot(121)\n",
    "    plt.title(\"Simulated\")\n",
    "    plt.hist(iidEvents.sum(0), bins)\n",
    "    plt.subplot(122, sharex=plt.gca(), sharey=plt.gca())\n",
    "    plt.title(\"TCGA BRCA\")\n",
    "    plt.hist((cn == 2).sum(0), bins)\n",
    "\n",
    "plt.show()"
   ]
  },
  {
   "cell_type": "markdown",
   "metadata": {},
   "source": [
    "Testing for mutual exclusivity in independent data results in a much more uniform $P$-value distribution."
   ]
  },
  {
   "cell_type": "code",
   "execution_count": 54,
   "metadata": {
    "collapsed": false
   },
   "outputs": [],
   "source": [
    "modelBinomIid0 = discover.DiscoverMatrix(\n",
    "    pandas.DataFrame(iidEvents),\n",
    "    pandas.DataFrame(estimate_binomial_background(iidEvents)))"
   ]
  },
  {
   "cell_type": "code",
   "execution_count": 55,
   "metadata": {
    "collapsed": false
   },
   "outputs": [],
   "source": [
    "result_iid_mutex0_binom = discover.pairwise_discover_test(modelBinomIid0[numpy.r_[nullGenes1, nullGenes2]], group)"
   ]
  },
  {
   "cell_type": "code",
   "execution_count": 56,
   "metadata": {
    "collapsed": false
   },
   "outputs": [
    {
     "data": {
      "image/png": "[encoded data removed]",
      "text/plain": [
       "<matplotlib.figure.Figure at 0x7f80585a2b90>"
      ]
     },
     "metadata": {},
     "output_type": "display_data"
    }
   ],
   "source": [
    "with nbsupport.plots.use_custom_style():\n",
    "    bins = numpy.linspace(0, 1, 20)\n",
    "    plt.hist(numpy.diag(result_iid_mutex0_binom.pvalues.values[:len(nullGenes1), len(nullGenes1):]), bins)"
   ]
  },
  {
   "cell_type": "markdown",
   "metadata": {},
   "source": [
    "The same is true for co-occurrences."
   ]
  },
  {
   "cell_type": "code",
   "execution_count": 57,
   "metadata": {
    "collapsed": false
   },
   "outputs": [],
   "source": [
    "result_iid_cooc0_binom = discover.pairwise_discover_test(modelBinomIid0[numpy.r_[nullGenes1, nullGenes2]], group, \"greater\")"
   ]
  },
  {
   "cell_type": "code",
   "execution_count": 58,
   "metadata": {
    "collapsed": false
   },
   "outputs": [
    {
     "data": {
      "image/png": "[encoded data removed]",
      "text/plain": [
       "<matplotlib.figure.Figure at 0x7f805b410d10>"
      ]
     },
     "metadata": {},
     "output_type": "display_data"
    }
   ],
   "source": [
    "with nbsupport.plots.use_custom_style():\n",
    "    bins = numpy.linspace(0, 1, 21)\n",
    "    plt.hist(numpy.diag(result_iid_cooc0_binom.pvalues.values[:len(nullGenes1), len(nullGenes1):]), bins)"
   ]
  }
 ],
 "metadata": {
  "kernelspec": {
   "display_name": "Python 2",
   "language": "python",
   "name": "python2"
  },
  "language_info": {
   "codemirror_mode": {
    "name": "ipython",
    "version": 2
   },
   "file_extension": ".py",
   "mimetype": "text/x-python",
   "name": "python",
   "nbconvert_exporter": "python",
   "pygments_lexer": "ipython2",
   "version": "2.7.11"
  }
 },
 "nbformat": 4,
 "nbformat_minor": 0
}
