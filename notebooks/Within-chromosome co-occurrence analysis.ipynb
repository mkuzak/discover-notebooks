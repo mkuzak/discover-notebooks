{
 "cells": [
  {
   "cell_type": "markdown",
   "metadata": {},
   "source": [
    "# Within-chromosome co-occurrence analysis"
   ]
  },
  {
   "cell_type": "markdown",
   "metadata": {},
   "source": [
    "In the [pairwise analysis](Pairwise analysis.ipynb), we found no evidence for widespread co-occurrence. To establish that the DISCOVER test is not overly conservative with respect to co-occurrence, we test for co-occurrence of copy number alterations of genes located in the same copy number segment, chromosome arm, or chromosome. Because of the strong correlation between copy numbers of nearby genes, we consider such gene pairs positive controls."
   ]
  },
  {
   "cell_type": "code",
   "execution_count": 1,
   "metadata": {
    "collapsed": true
   },
   "outputs": [],
   "source": [
    "import sys\n",
    "sys.path.append(\"../lib\")"
   ]
  },
  {
   "cell_type": "code",
   "execution_count": 2,
   "metadata": {
    "collapsed": true
   },
   "outputs": [],
   "source": [
    "%matplotlib inline"
   ]
  },
  {
   "cell_type": "code",
   "execution_count": 3,
   "metadata": {
    "collapsed": true
   },
   "outputs": [],
   "source": [
    "import matplotlib.pyplot as plt"
   ]
  },
  {
   "cell_type": "code",
   "execution_count": 4,
   "metadata": {
    "collapsed": true
   },
   "outputs": [],
   "source": [
    "import numpy\n",
    "import scipy.stats"
   ]
  },
  {
   "cell_type": "code",
   "execution_count": 5,
   "metadata": {
    "collapsed": true
   },
   "outputs": [],
   "source": [
    "import nbsupport.io\n",
    "import nbsupport.plots\n",
    "import nbsupport.tcga"
   ]
  },
  {
   "cell_type": "code",
   "execution_count": 6,
   "metadata": {
    "collapsed": false
   },
   "outputs": [],
   "source": [
    "import discover"
   ]
  },
  {
   "cell_type": "markdown",
   "metadata": {},
   "source": [
    "## Data and results"
   ]
  },
  {
   "cell_type": "markdown",
   "metadata": {},
   "source": [
    "We use the results of the pairwise mutual exclusivity analysis obtained in the notebook [Pairwise analysis](Pairwise analysis.ipynb)."
   ]
  },
  {
   "cell_type": "code",
   "execution_count": 7,
   "metadata": {
    "collapsed": true
   },
   "outputs": [],
   "source": [
    "dataFile = \"../data/tcga/tcga-pancan12.h5\""
   ]
  },
  {
   "cell_type": "code",
   "execution_count": 8,
   "metadata": {
    "collapsed": true
   },
   "outputs": [],
   "source": [
    "events = nbsupport.io.load_discover_matrix(dataFile, \"/models/combined\")"
   ]
  },
  {
   "cell_type": "code",
   "execution_count": 9,
   "metadata": {
    "collapsed": false
   },
   "outputs": [],
   "source": [
    "result_cooc = discover.pairwise_discover_test(events, alternative=\"greater\")"
   ]
  },
  {
   "cell_type": "markdown",
   "metadata": {},
   "source": [
    "## Within-chromosome analyses"
   ]
  },
  {
   "cell_type": "markdown",
   "metadata": {},
   "source": [
    "In the plot below, we compare the co-occurrence $P$-values for pairs of genes located within the same recurrently altered segment, within the same chromosome arm, within the same chromosome, and across chromosomes."
   ]
  },
  {
   "cell_type": "code",
   "execution_count": 10,
   "metadata": {
    "collapsed": true
   },
   "outputs": [],
   "source": [
    "segments = {}\n",
    "\n",
    "for event_type in [\"amp\", \"del\"]:\n",
    "    peaks = nbsupport.tcga.read_gistic_output(\"../data/tcga/%s_genes.conf_95.pancan12.txt\" % event_type)\n",
    "    segments.update({ gene.strip(\"[]\") + \"_\" + {\"amp\": \"gain\", \"del\": \"loss\"}[event_type]: seg for seg in peaks for gene in peaks[seg] })"
   ]
  },
  {
   "cell_type": "code",
   "execution_count": 11,
   "metadata": {
    "collapsed": true
   },
   "outputs": [],
   "source": [
    "seg = numpy.array([segments.get(gene, \"NA\") for gene in events.rownames])"
   ]
  },
  {
   "cell_type": "code",
   "execution_count": 12,
   "metadata": {
    "collapsed": true
   },
   "outputs": [],
   "source": [
    "chrom_arm = numpy.array([x if x == \"NA\" else x[:max(x.find(\"p\"), x.find(\"q\"))+1] for x in seg])"
   ]
  },
  {
   "cell_type": "code",
   "execution_count": 13,
   "metadata": {
    "collapsed": false
   },
   "outputs": [
    {
     "data": {
      "image/png": "[encoded data removed]",
      "text/plain": [
       "<matplotlib.figure.Figure at 0x7faae38a2890>"
      ]
     },
     "metadata": {},
     "output_type": "display_data"
    }
   ],
   "source": [
    "from numpy import newaxis\n",
    "\n",
    "same_segment = seg[:, newaxis] == numpy.char.replace(seg[newaxis], \"NA\", \"NA2\")\n",
    "same_arm = ~same_segment & (chrom_arm[:, newaxis] == numpy.char.replace(chrom_arm[newaxis], \"NA\", \"NA2\"))\n",
    "\n",
    "chrom = numpy.char.replace(numpy.char.replace(chrom_arm, \"p\", \"\"), \"q\", \"\")\n",
    "same_chrom = ~same_segment & ~same_arm & (chrom[:, newaxis] == numpy.char.replace(chrom[newaxis], \"NA\", \"NA2\"))\n",
    "\n",
    "rest = ~same_segment & ~same_arm & ~same_chrom & (seg != \"NA\")[:, newaxis] & (seg != \"NA\")[newaxis]\n",
    "\n",
    "data = [numpy.ma.masked_invalid(result_cooc.pvalues.values[same_segment]).compressed(),\n",
    "        numpy.ma.masked_invalid(result_cooc.pvalues.values[same_arm]).compressed(),\n",
    "        numpy.ma.masked_invalid(result_cooc.pvalues.values[same_chrom]).compressed(),\n",
    "        numpy.ma.masked_invalid(result_cooc.pvalues.values[rest]).compressed()]\n",
    "\n",
    "with plt.rc_context(rc={\"font.size\": 12,\n",
    "                        \"legend.fontsize\": 12,\n",
    "                        \"axes.linewidth\": 1.5,\n",
    "                        \n",
    "                        'mathtext.fontset': 'custom',\n",
    "                        'mathtext.rm': 'Arial',\n",
    "                        'mathtext.it': 'Arial:italic',\n",
    "                        'mathtext.bf': 'Arial:bold',\n",
    "                        \n",
    "                        \"font.family\": \"arial\"}):\n",
    "    bp = plt.boxplot(data, widths=0.25)\n",
    "    \n",
    "    ax = plt.gca()\n",
    "    \n",
    "    plt.setp(bp[\"boxes\"], color=\"#31a354\", lw=0)\n",
    "    plt.setp(bp[\"medians\"], color=\"white\")\n",
    "    plt.setp(bp[\"medians\"][0], color=\"#0072b2\")\n",
    "    plt.setp(bp[\"whiskers\"], color=\"#4393c3\", lw=2)\n",
    "    plt.setp(bp[\"caps\"], color=\"black\")\n",
    "    plt.setp(bp[\"fliers\"], color=\"red\")\n",
    "    \n",
    "    for box in bp[\"boxes\"]:\n",
    "        coords = zip(box.get_xdata(), box.get_ydata())\n",
    "        ax.add_patch(plt.Polygon(coords, fc=\"#0072b2\", lw=0))\n",
    "    \n",
    "    for i in xrange(len(data) - 1):\n",
    "        y = 1.03 if i % 2 == 0 else 1.2\n",
    "        ax.annotate(\"\", xy=(i + 1, y), xycoords=\"data\", xytext=(i + 2, y), textcoords=\"data\",\n",
    "                    arrowprops={\"arrowstyle\": \"-\",\n",
    "                                \"ec\": \"#aaaaaa\",\n",
    "                                \"connectionstyle\": \"bar,fraction=0.2\"})\n",
    "        p = scipy.stats.mannwhitneyu(data[i], data[i + 1]).pvalue\n",
    "        ptext = (\"$%.2g}$\" % p).replace(\"e\", \"\\\\times 10^{\")\n",
    "        ax.text(i + 1.5, y + 0.17, ptext, ha=\"center\", va=\"center\")\n",
    "\n",
    "    plt.ylim(-0.01, 1.5)\n",
    "    plt.xticks([1, 2, 3, 4], [\"Same segment\", \"Same arm\", \"Same chromosome\", \"Rest\"])\n",
    "    \n",
    "    ax.axes.spines[\"left\"].set_bounds(0, 1)\n",
    "    ax.yaxis.set_ticks(numpy.linspace(0, 1, 6))\n",
    "    ax.axes.spines['top'].set_visible(False)\n",
    "    ax.axes.spines['right'].set_visible(False)\n",
    "    ax.axes.spines['bottom'].set_visible(False)\n",
    "    ax.axes.yaxis.set_ticks_position('left')\n",
    "    ax.axes.xaxis.set_ticks_position('none')\n",
    "    ax.axes.tick_params(direction=\"out\", which=\"both\")\n",
    "    ax.spines['bottom'].set_position(('outward', 10))\n",
    "    \n",
    "    yPos = ax.transAxes.inverted().transform(ax.transData.transform_point((0, 0.5)))[1]\n",
    "    plt.ylabel(\"P value\", y=yPos)\n"
   ]
  },
  {
   "cell_type": "markdown",
   "metadata": {},
   "source": [
    "We also count the number of pairs identified as co-occurrent at a maximum FDR of 1%."
   ]
  },
  {
   "cell_type": "code",
   "execution_count": 14,
   "metadata": {
    "collapsed": false
   },
   "outputs": [
    {
     "name": "stdout",
     "output_type": "stream",
     "text": [
      "Pairs in same segment:\n",
      "  tested:      112\n",
      "  significant: 111\n"
     ]
    }
   ],
   "source": [
    "print \"Pairs in same segment:\"\n",
    "print \"  tested:     \", numpy.isfinite(result_cooc.pvalues.values[same_segment]).sum()\n",
    "print \"  significant:\", (result_cooc.qvalues.values[same_segment] * result_cooc.pi0 < 0.01).sum()"
   ]
  },
  {
   "cell_type": "code",
   "execution_count": 15,
   "metadata": {
    "collapsed": false
   },
   "outputs": [
    {
     "name": "stdout",
     "output_type": "stream",
     "text": [
      "Pairs on same chromosome arm:\n",
      "  tested:      159\n",
      "  significant: 18\n"
     ]
    }
   ],
   "source": [
    "print \"Pairs on same chromosome arm:\"\n",
    "print \"  tested:     \", numpy.isfinite(result_cooc.pvalues.values[same_arm]).sum()\n",
    "print \"  significant:\", (result_cooc.qvalues.values[same_arm] * result_cooc.pi0 < 0.01).sum()"
   ]
  },
  {
   "cell_type": "code",
   "execution_count": 16,
   "metadata": {
    "collapsed": false
   },
   "outputs": [
    {
     "name": "stdout",
     "output_type": "stream",
     "text": [
      "Pairs on same chromosome:\n",
      "  tested:      159\n",
      "  significant: 1\n"
     ]
    }
   ],
   "source": [
    "print \"Pairs on same chromosome:\"\n",
    "print \"  tested:     \", numpy.isfinite(result_cooc.pvalues.values[same_chrom]).sum()\n",
    "print \"  significant:\", (result_cooc.qvalues.values[same_chrom] * result_cooc.pi0 < 0.01).sum()"
   ]
  }
 ],
 "metadata": {
  "kernelspec": {
   "display_name": "Python 2",
   "language": "python",
   "name": "python2"
  },
  "language_info": {
   "codemirror_mode": {
    "name": "ipython",
    "version": 2
   },
   "file_extension": ".py",
   "mimetype": "text/x-python",
   "name": "python",
   "nbconvert_exporter": "python",
   "pygments_lexer": "ipython2",
   "version": "2.7.11"
  }
 },
 "nbformat": 4,
 "nbformat_minor": 0
}
