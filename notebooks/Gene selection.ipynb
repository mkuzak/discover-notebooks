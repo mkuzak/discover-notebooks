{
 "cells": [
  {
   "cell_type": "markdown",
   "metadata": {},
   "source": [
    "# Gene selection"
   ]
  },
  {
   "cell_type": "markdown",
   "metadata": {},
   "source": [
    "In this notebook, we make a selection of genes that will be used in the pairwise co-occurrence and mutual exclusivity analyses. Genes are selected if they are (1) located in a recurrently altered copy number segment and included in a list of known cancer genes, or (2) included in a list of mutational driver genes."
   ]
  },
  {
   "cell_type": "code",
   "execution_count": 1,
   "metadata": {
    "collapsed": true
   },
   "outputs": [],
   "source": [
    "import sys\n",
    "sys.path.append(\"../lib\")"
   ]
  },
  {
   "cell_type": "code",
   "execution_count": 2,
   "metadata": {
    "collapsed": true
   },
   "outputs": [],
   "source": [
    "import numpy\n",
    "import pandas"
   ]
  },
  {
   "cell_type": "code",
   "execution_count": 3,
   "metadata": {
    "collapsed": false
   },
   "outputs": [],
   "source": [
    "import nbsupport.tcga"
   ]
  },
  {
   "cell_type": "code",
   "execution_count": 4,
   "metadata": {
    "collapsed": false
   },
   "outputs": [],
   "source": [
    "segments = {}\n",
    "\n",
    "for segment, genes in nbsupport.tcga.read_gistic_output(\"../data/tcga/del_genes.conf_95.pancan12.txt\").iteritems():\n",
    "    segments[\"_\".join([segment, \"loss\"])] = genes\n",
    "\n",
    "for segment, genes in nbsupport.tcga.read_gistic_output(\"../data/tcga/amp_genes.conf_95.pancan12.txt\").iteritems():\n",
    "    segments[\"_\".join([segment, \"gain\"])] = genes"
   ]
  },
  {
   "cell_type": "code",
   "execution_count": 5,
   "metadata": {
    "collapsed": false
   },
   "outputs": [],
   "source": [
    "cancer_genes = pandas.read_table(\"../data/tcga/cancer-genes.tsv\")"
   ]
  },
  {
   "cell_type": "code",
   "execution_count": 6,
   "metadata": {
    "collapsed": false
   },
   "outputs": [],
   "source": [
    "entrez_gene_info = pandas.read_table(\"../data/entrez/seq_gene.md.gz\", usecols=[1, 9, 12], compression=\"gzip\", low_memory=False)\n",
    "entrez_gene_info = entrez_gene_info[entrez_gene_info.group_label == \"GRCh37.p13-Primary Assembly\"]"
   ]
  },
  {
   "cell_type": "code",
   "execution_count": 7,
   "metadata": {
    "collapsed": true
   },
   "outputs": [],
   "source": [
    "mut_genes = pandas.read_csv(\"../data/tcga/mutational-drivers.csv\")"
   ]
  },
  {
   "cell_type": "code",
   "execution_count": 8,
   "metadata": {
    "collapsed": false
   },
   "outputs": [],
   "source": [
    "high_conf_drivers = mut_genes[\"Gene Symbol\"][mut_genes[\"Putative Driver Category\"] == \"High Confidence Driver\"]"
   ]
  },
  {
   "cell_type": "code",
   "execution_count": 9,
   "metadata": {
    "collapsed": false
   },
   "outputs": [],
   "source": [
    "mut_drivers = pandas.DataFrame.from_items([\n",
    "        (\"gene\", high_conf_drivers),\n",
    "        (\"chrom\", numpy.r_[entrez_gene_info.chromosome.values, numpy.nan][pandas.match(high_conf_drivers, entrez_gene_info.feature_name)]),\n",
    "        (\"type\", \"mut\")])"
   ]
  },
  {
   "cell_type": "code",
   "execution_count": 10,
   "metadata": {
    "collapsed": false
   },
   "outputs": [],
   "source": [
    "selected_genes = numpy.union1d(\n",
    "    numpy.union1d(\n",
    "        numpy.intersect1d(numpy.concatenate(segments.values()), mut_genes[\"Gene Symbol\"]),\n",
    "        numpy.intersect1d(numpy.concatenate(segments.values()), cancer_genes.symbol)),\n",
    "    [g[0].strip(\"[]\") for g in segments.itervalues() if len(g) == 1])"
   ]
  },
  {
   "cell_type": "code",
   "execution_count": 11,
   "metadata": {
    "collapsed": false,
    "scrolled": false
   },
   "outputs": [],
   "source": [
    "rows = []\n",
    "for gene in selected_genes:\n",
    "    segment = next(seg for seg, genes in segments.iteritems() if gene in map(lambda s: s.strip(\"[]\"), genes))\n",
    "    rows.append((gene, segment[:max(segment.find(\"p\"), segment.find(\"q\"))],  segment.rsplit(\"_\")[-1]))\n",
    "\n",
    "cn_drivers = pandas.DataFrame(rows, columns=[\"gene\", \"chrom\", \"type\"])"
   ]
  },
  {
   "cell_type": "markdown",
   "metadata": {},
   "source": [
    "The *DUX4* gene has incorrectly been assigned to chromosome 10 in the PanCan GISTIC output. In reality, it is on chromosome 4, so we remove it from the list of copy number driver genes."
   ]
  },
  {
   "cell_type": "code",
   "execution_count": 12,
   "metadata": {
    "collapsed": false
   },
   "outputs": [],
   "source": [
    "cn_drivers = cn_drivers[cn_drivers.gene != \"DUX4\"]"
   ]
  },
  {
   "cell_type": "code",
   "execution_count": 13,
   "metadata": {
    "collapsed": false
   },
   "outputs": [],
   "source": [
    "drivers = pandas.concat([cn_drivers, mut_drivers]).sort_values(\"gene\")"
   ]
  },
  {
   "cell_type": "code",
   "execution_count": 14,
   "metadata": {
    "collapsed": false
   },
   "outputs": [],
   "source": [
    "drivers.reset_index(drop=True, inplace=True)"
   ]
  },
  {
   "cell_type": "markdown",
   "metadata": {},
   "source": [
    "The following genes have missing chromosome annotation in the cancer driver gene list."
   ]
  },
  {
   "cell_type": "code",
   "execution_count": 15,
   "metadata": {
    "collapsed": true
   },
   "outputs": [],
   "source": [
    "gene2chrom = {\n",
    "    \"AKD1\": \"6\",\n",
    "    \"MLL\": \"11\",\n",
    "    \"MLL2\": \"12\",\n",
    "    \"MLL3\": \"7\"\n",
    "}"
   ]
  },
  {
   "cell_type": "code",
   "execution_count": 16,
   "metadata": {
    "collapsed": false
   },
   "outputs": [],
   "source": [
    "for i, row in drivers[drivers.chrom.isnull()].iterrows():\n",
    "    drivers.chrom[i] = gene2chrom[row.gene]"
   ]
  },
  {
   "cell_type": "code",
   "execution_count": 17,
   "metadata": {
    "collapsed": false
   },
   "outputs": [],
   "source": [
    "drivers.to_csv(\"../data/tcga/selected-genes.txt\", sep=\"\\t\", index=False, na_rep=\"NA\")"
   ]
  }
 ],
 "metadata": {
  "kernelspec": {
   "display_name": "Python 2",
   "language": "python",
   "name": "python2"
  },
  "language_info": {
   "codemirror_mode": {
    "name": "ipython",
    "version": 2
   },
   "file_extension": ".py",
   "mimetype": "text/x-python",
   "name": "python",
   "nbconvert_exporter": "python",
   "pygments_lexer": "ipython2",
   "version": "2.7.11"
  }
 },
 "nbformat": 4,
 "nbformat_minor": 0
}
