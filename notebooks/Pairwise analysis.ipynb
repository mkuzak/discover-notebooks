{
 "cells": [
  {
   "cell_type": "markdown",
   "metadata": {},
   "source": [
    "# Pairwise analysis"
   ]
  },
  {
   "cell_type": "markdown",
   "metadata": {},
   "source": [
    "In this notebook, we perform pairwise co-occurrence and mutual exclusivity analyses of PanCan12 data using the DISCOVER test."
   ]
  },
  {
   "cell_type": "code",
   "execution_count": 1,
   "metadata": {
    "collapsed": true
   },
   "outputs": [],
   "source": [
    "import sys\n",
    "sys.path.append(\"../lib\")"
   ]
  },
  {
   "cell_type": "code",
   "execution_count": 2,
   "metadata": {
    "collapsed": false
   },
   "outputs": [],
   "source": [
    "import nbsupport.io\n",
    "import nbsupport.tcga\n",
    "import nbsupport.util"
   ]
  },
  {
   "cell_type": "code",
   "execution_count": 3,
   "metadata": {
    "collapsed": true
   },
   "outputs": [],
   "source": [
    "import numpy\n",
    "import pandas"
   ]
  },
  {
   "cell_type": "markdown",
   "metadata": {},
   "source": [
    "## Data"
   ]
  },
  {
   "cell_type": "markdown",
   "metadata": {},
   "source": [
    "The code below assumes that genomic data for the PANCAN12 studies have been downloaded from Firehose and imported into an HDF5 file. These steps are performed in the notebook [Download PanCan12 data](Download PanCan12 data.ipynb)."
   ]
  },
  {
   "cell_type": "code",
   "execution_count": 4,
   "metadata": {
    "collapsed": true
   },
   "outputs": [],
   "source": [
    "dataFile = \"../data/tcga/tcga-pancan12.h5\""
   ]
  },
  {
   "cell_type": "markdown",
   "metadata": {},
   "source": [
    "Below we collect the copy number and mutation matrices for the 12 PANCAN studies, and combine them into one combined matrix. Tumours are only included if both copy number and mutation data are available."
   ]
  },
  {
   "cell_type": "markdown",
   "metadata": {},
   "source": [
    "### Mutations"
   ]
  },
  {
   "cell_type": "code",
   "execution_count": 5,
   "metadata": {
    "collapsed": false
   },
   "outputs": [],
   "source": [
    "mut = [pandas.read_hdf(dataFile, \"/data/{}/mut\".format(study)) for study in nbsupport.tcga.PANCAN12_STUDIES]"
   ]
  },
  {
   "cell_type": "code",
   "execution_count": 6,
   "metadata": {
    "collapsed": false
   },
   "outputs": [],
   "source": [
    "cancerTypesMut = pandas.Series(\n",
    "    numpy.repeat(nbsupport.tcga.PANCAN12_STUDIES, [matrix.shape[1] for matrix in mut]),\n",
    "    numpy.concatenate([matrix.columns for matrix in mut]))"
   ]
  },
  {
   "cell_type": "code",
   "execution_count": 7,
   "metadata": {
    "collapsed": true
   },
   "outputs": [],
   "source": [
    "mut = pandas.concat(mut, 1)"
   ]
  },
  {
   "cell_type": "code",
   "execution_count": 8,
   "metadata": {
    "collapsed": false
   },
   "outputs": [],
   "source": [
    "mut.fillna(0, inplace=True)"
   ]
  },
  {
   "cell_type": "code",
   "execution_count": 9,
   "metadata": {
    "collapsed": false
   },
   "outputs": [],
   "source": [
    "mut.columns = mut.columns.str.slice(0, 15)\n",
    "cancerTypesMut.index = cancerTypesMut.index.str.slice(0, 15)"
   ]
  },
  {
   "cell_type": "markdown",
   "metadata": {},
   "source": [
    "### Copy number"
   ]
  },
  {
   "cell_type": "code",
   "execution_count": 10,
   "metadata": {
    "collapsed": false
   },
   "outputs": [],
   "source": [
    "cn = [pandas.read_hdf(dataFile, \"/data/{}/cn\".format(study)) for study in nbsupport.tcga.PANCAN12_STUDIES]"
   ]
  },
  {
   "cell_type": "code",
   "execution_count": 11,
   "metadata": {
    "collapsed": false
   },
   "outputs": [],
   "source": [
    "cancerTypesCN = pandas.Series(\n",
    "    numpy.repeat(nbsupport.tcga.PANCAN12_STUDIES, [matrix.shape[1] for matrix in cn]),\n",
    "    numpy.concatenate([matrix.columns for matrix in cn]))"
   ]
  },
  {
   "cell_type": "code",
   "execution_count": 12,
   "metadata": {
    "collapsed": true
   },
   "outputs": [],
   "source": [
    "cn = pandas.concat(cn, 1)"
   ]
  },
  {
   "cell_type": "code",
   "execution_count": 13,
   "metadata": {
    "collapsed": false
   },
   "outputs": [],
   "source": [
    "cn.columns = cn.columns.str.slice(0, 15)\n",
    "cancerTypesCN.index = cancerTypesCN.index.str.slice(0, 15)"
   ]
  },
  {
   "cell_type": "code",
   "execution_count": 14,
   "metadata": {
    "collapsed": false
   },
   "outputs": [],
   "source": [
    "cn, cancerTypesCN, mut, cancerTypesMut = nbsupport.util.align_columns(\n",
    "    cn, pandas.DataFrame(cancerTypesCN).T,\n",
    "    mut, pandas.DataFrame(cancerTypesMut).T)"
   ]
  },
  {
   "cell_type": "code",
   "execution_count": 15,
   "metadata": {
    "collapsed": false
   },
   "outputs": [],
   "source": [
    "cancerTypesCN = cancerTypesCN.iloc[0]\n",
    "cancerTypesMut = cancerTypesMut.iloc[0]"
   ]
  },
  {
   "cell_type": "code",
   "execution_count": 16,
   "metadata": {
    "collapsed": false
   },
   "outputs": [
    {
     "data": {
      "text/plain": [
       "(18271, 3386)"
      ]
     },
     "execution_count": 16,
     "metadata": {},
     "output_type": "execute_result"
    }
   ],
   "source": [
    "mut.shape"
   ]
  },
  {
   "cell_type": "code",
   "execution_count": 17,
   "metadata": {
    "collapsed": false
   },
   "outputs": [
    {
     "data": {
      "text/plain": [
       "(24174, 3386)"
      ]
     },
     "execution_count": 17,
     "metadata": {},
     "output_type": "execute_result"
    }
   ],
   "source": [
    "cn.shape"
   ]
  },
  {
   "cell_type": "markdown",
   "metadata": {},
   "source": [
    "## Background estimation"
   ]
  },
  {
   "cell_type": "markdown",
   "metadata": {},
   "source": [
    "Background alteration probability matrices are estimated per alteration type (i.e. copy number gain and loss, and mutation) separately, and based on the alteration matrices with all genes. In estimating these background matrices, we stratify for cancer type."
   ]
  },
  {
   "cell_type": "code",
   "execution_count": 18,
   "metadata": {
    "collapsed": false
   },
   "outputs": [],
   "source": [
    "from discover.util import disableStackLimit\n",
    "disableStackLimit()"
   ]
  },
  {
   "cell_type": "code",
   "execution_count": 19,
   "metadata": {
    "collapsed": true
   },
   "outputs": [],
   "source": [
    "import discover"
   ]
  },
  {
   "cell_type": "code",
   "execution_count": 20,
   "metadata": {
    "collapsed": false
   },
   "outputs": [],
   "source": [
    "mutations = discover.DiscoverMatrix(mut, strata=cancerTypesMut)"
   ]
  },
  {
   "cell_type": "code",
   "execution_count": 21,
   "metadata": {
    "collapsed": false
   },
   "outputs": [],
   "source": [
    "gains = discover.DiscoverMatrix(cn == 2, strata=cancerTypesCN)"
   ]
  },
  {
   "cell_type": "code",
   "execution_count": 22,
   "metadata": {
    "collapsed": false
   },
   "outputs": [],
   "source": [
    "losses = discover.DiscoverMatrix(cn == -2, strata=cancerTypesCN)"
   ]
  },
  {
   "cell_type": "code",
   "execution_count": 23,
   "metadata": {
    "collapsed": true
   },
   "outputs": [],
   "source": [
    "nbsupport.io.save_discover_matrix(dataFile, \"/models/mut\", mutations)\n",
    "nbsupport.io.save_discover_matrix(dataFile, \"/models/gains\", gains)\n",
    "nbsupport.io.save_discover_matrix(dataFile, \"/models/losses\", losses)"
   ]
  },
  {
   "cell_type": "markdown",
   "metadata": {},
   "source": [
    "## Analysis"
   ]
  },
  {
   "cell_type": "code",
   "execution_count": 24,
   "metadata": {
    "collapsed": true
   },
   "outputs": [],
   "source": [
    "genes = pandas.read_table(\"../data/tcga/selected-genes.txt\")"
   ]
  },
  {
   "cell_type": "code",
   "execution_count": 25,
   "metadata": {
    "collapsed": true
   },
   "outputs": [],
   "source": [
    "def extract_submatrix(x, rownames, suffix):\n",
    "    result = x[numpy.in1d(x.rownames, rownames)]\n",
    "    result.rownames = numpy.char.add(result.rownames.astype(str), \"_\" + suffix)\n",
    "    return result"
   ]
  },
  {
   "cell_type": "markdown",
   "metadata": {},
   "source": [
    "We make an alteration probability matrix by combining the relevant rows of the alteration-type specific matrices."
   ]
  },
  {
   "cell_type": "code",
   "execution_count": 26,
   "metadata": {
    "collapsed": false
   },
   "outputs": [],
   "source": [
    "events = discover.row_stack([\n",
    "        extract_submatrix(gains, genes.gene[genes.type == \"gain\"], \"gain\"),\n",
    "        extract_submatrix(losses, genes.gene[genes.type == \"loss\"], \"loss\"),\n",
    "        extract_submatrix(mutations, genes.gene[genes.type == \"mut\"], \"mut\")])"
   ]
  },
  {
   "cell_type": "markdown",
   "metadata": {},
   "source": [
    "The chromosomes on which the genes are located are needed so that we can test pairs of genes only if they are located on different chromosomes."
   ]
  },
  {
   "cell_type": "code",
   "execution_count": 27,
   "metadata": {
    "collapsed": false
   },
   "outputs": [],
   "source": [
    "chrom = pandas.Series(\n",
    "    genes.chrom[pandas.match(numpy.char.partition(events.rownames.astype(str), \"_\")[:, 0], genes.gene)].values,\n",
    "    events.rownames)"
   ]
  },
  {
   "cell_type": "code",
   "execution_count": 28,
   "metadata": {
    "collapsed": true
   },
   "outputs": [],
   "source": [
    "order_by_chrom = chrom.values.argsort()"
   ]
  },
  {
   "cell_type": "code",
   "execution_count": 29,
   "metadata": {
    "collapsed": true
   },
   "outputs": [],
   "source": [
    "events = events[order_by_chrom]"
   ]
  },
  {
   "cell_type": "code",
   "execution_count": 30,
   "metadata": {
    "collapsed": true
   },
   "outputs": [],
   "source": [
    "chrom = chrom[order_by_chrom]"
   ]
  },
  {
   "cell_type": "code",
   "execution_count": 31,
   "metadata": {
    "collapsed": true
   },
   "outputs": [],
   "source": [
    "nbsupport.io.save_discover_matrix(dataFile, \"/models/combined\", events)"
   ]
  },
  {
   "cell_type": "markdown",
   "metadata": {},
   "source": [
    "We first test for mutual exclusivity."
   ]
  },
  {
   "cell_type": "code",
   "execution_count": 32,
   "metadata": {
    "collapsed": false
   },
   "outputs": [],
   "source": [
    "result_mutex = discover.pairwise_discover_test(events, chrom)"
   ]
  },
  {
   "cell_type": "code",
   "execution_count": 33,
   "metadata": {
    "collapsed": false
   },
   "outputs": [
    {
     "data": {
      "text/plain": [
       "Pairwise DISCOVER mutual exclusivity test\n",
       "alternative hypothesis: observed overlap is less than expected by chance\n",
       "\n",
       "number of pairs tested: 77305\n",
       "proportion of true null hypotheses: 0.919293815154\n",
       "number of significant pairs at a maximum FDR of 0.01: 183"
      ]
     },
     "execution_count": 35,
     "metadata": {},
     "output_type": "execute_result"
    }
   ],
   "source": [
    "result_mutex"
   ]
  },
  {
   "cell_type": "code",
   "execution_count": 34,
   "metadata": {
    "collapsed": false
   },
   "outputs": [],
   "source": [
    "nbsupport.io.save_pairwise_result(dataFile, \"/results/mutex\", result_mutex)"
   ]
  },
  {
   "cell_type": "markdown",
   "metadata": {},
   "source": [
    "And then for co-occurrence."
   ]
  },
  {
   "cell_type": "code",
   "execution_count": 35,
   "metadata": {
    "collapsed": true
   },
   "outputs": [],
   "source": [
    "result_cooc = discover.pairwise_discover_test(events, chrom, \"greater\")"
   ]
  },
  {
   "cell_type": "code",
   "execution_count": 36,
   "metadata": {
    "collapsed": false
   },
   "outputs": [
    {
     "data": {
      "text/plain": [
       "Pairwise DISCOVER co-occurrence test\n",
       "alternative hypothesis: observed overlap is greater than expected by chance\n",
       "\n",
       "number of pairs tested: 77305\n",
       "proportion of true null hypotheses: 1.0\n",
       "number of significant pairs at a maximum FDR of 0.01: 0"
      ]
     },
     "execution_count": 38,
     "metadata": {},
     "output_type": "execute_result"
    }
   ],
   "source": [
    "result_cooc"
   ]
  },
  {
   "cell_type": "code",
   "execution_count": 37,
   "metadata": {
    "collapsed": true
   },
   "outputs": [],
   "source": [
    "nbsupport.io.save_pairwise_result(dataFile, \"/results/cooc\", result_cooc)"
   ]
  },
  {
   "cell_type": "markdown",
   "metadata": {},
   "source": [
    "No pairs are significant at a maximum FDR of 1%, but as can be seen relaxing the significance threshold to 3% allows us to recover a co-occurrence of *TP53* mutation and *MYC* gain."
   ]
  },
  {
   "cell_type": "code",
   "execution_count": 38,
   "metadata": {
    "collapsed": false
   },
   "outputs": [
    {
     "data": {
      "text/html": [
       "<div>\n",
       "<table border=\"1\" class=\"dataframe\">\n",
       "  <thead>\n",
       "    <tr style=\"text-align: right;\">\n",
       "      <th></th>\n",
       "      <th>gene1</th>\n",
       "      <th>gene2</th>\n",
       "      <th>pvalue</th>\n",
       "      <th>qvalue</th>\n",
       "    </tr>\n",
       "  </thead>\n",
       "  <tbody>\n",
       "    <tr>\n",
       "      <th>53164</th>\n",
       "      <td>TP53_mut</td>\n",
       "      <td>MYC_gain</td>\n",
       "      <td>8.454899e-07</td>\n",
       "      <td>0.029552</td>\n",
       "    </tr>\n",
       "    <tr>\n",
       "      <th>48749</th>\n",
       "      <td>WWOX_loss</td>\n",
       "      <td>CASP8_mut</td>\n",
       "      <td>5.059779e-06</td>\n",
       "      <td>0.091703</td>\n",
       "    </tr>\n",
       "    <tr>\n",
       "      <th>53009</th>\n",
       "      <td>TP53_mut</td>\n",
       "      <td>CCNE1_gain</td>\n",
       "      <td>4.793359e-05</td>\n",
       "      <td>0.601844</td>\n",
       "    </tr>\n",
       "    <tr>\n",
       "      <th>48760</th>\n",
       "      <td>WWOX_loss</td>\n",
       "      <td>DNMT3A_mut</td>\n",
       "      <td>1.440971e-04</td>\n",
       "      <td>1.000000</td>\n",
       "    </tr>\n",
       "    <tr>\n",
       "      <th>27630</th>\n",
       "      <td>LRRK2_mut</td>\n",
       "      <td>NFATC1_loss</td>\n",
       "      <td>1.687369e-04</td>\n",
       "      <td>1.000000</td>\n",
       "    </tr>\n",
       "    <tr>\n",
       "      <th>34655</th>\n",
       "      <td>IRS2_gain</td>\n",
       "      <td>LPP_mut</td>\n",
       "      <td>3.442378e-04</td>\n",
       "      <td>1.000000</td>\n",
       "    </tr>\n",
       "    <tr>\n",
       "      <th>72997</th>\n",
       "      <td>ZNF300_mut</td>\n",
       "      <td>AKD1_mut</td>\n",
       "      <td>3.902306e-04</td>\n",
       "      <td>1.000000</td>\n",
       "    </tr>\n",
       "    <tr>\n",
       "      <th>53079</th>\n",
       "      <td>TP53_mut</td>\n",
       "      <td>MECOM_gain</td>\n",
       "      <td>4.585426e-04</td>\n",
       "      <td>1.000000</td>\n",
       "    </tr>\n",
       "    <tr>\n",
       "      <th>7525</th>\n",
       "      <td>RERE_loss</td>\n",
       "      <td>FBXW7_mut</td>\n",
       "      <td>5.299846e-04</td>\n",
       "      <td>1.000000</td>\n",
       "    </tr>\n",
       "    <tr>\n",
       "      <th>48819</th>\n",
       "      <td>WWOX_loss</td>\n",
       "      <td>FBXW7_mut</td>\n",
       "      <td>5.898698e-04</td>\n",
       "      <td>1.000000</td>\n",
       "    </tr>\n",
       "  </tbody>\n",
       "</table>\n",
       "</div>"
      ],
      "text/plain": [
       "            gene1        gene2        pvalue    qvalue\n",
       "53164    TP53_mut     MYC_gain  8.454899e-07  0.029552\n",
       "48749   WWOX_loss    CASP8_mut  5.059779e-06  0.091703\n",
       "53009    TP53_mut   CCNE1_gain  4.793359e-05  0.601844\n",
       "48760   WWOX_loss   DNMT3A_mut  1.440971e-04  1.000000\n",
       "27630   LRRK2_mut  NFATC1_loss  1.687369e-04  1.000000\n",
       "34655   IRS2_gain      LPP_mut  3.442378e-04  1.000000\n",
       "72997  ZNF300_mut     AKD1_mut  3.902306e-04  1.000000\n",
       "53079    TP53_mut   MECOM_gain  4.585426e-04  1.000000\n",
       "7525    RERE_loss    FBXW7_mut  5.299846e-04  1.000000\n",
       "48819   WWOX_loss    FBXW7_mut  5.898698e-04  1.000000"
      ]
     },
     "execution_count": 40,
     "metadata": {},
     "output_type": "execute_result"
    }
   ],
   "source": [
    "result_cooc.significant_pairs(1).sort_values(\"pvalue\").head(10)"
   ]
  },
  {
   "cell_type": "markdown",
   "metadata": {},
   "source": [
    "## Binomial test"
   ]
  },
  {
   "cell_type": "markdown",
   "metadata": {},
   "source": [
    "Here, we repeat the co-occurrence and mutual exclusivity analyses using the Binomial test."
   ]
  },
  {
   "cell_type": "code",
   "execution_count": 39,
   "metadata": {
    "collapsed": true
   },
   "outputs": [],
   "source": [
    "def estimate_binomial_background(events, strata=None):\n",
    "    if strata is None:\n",
    "        return numpy.repeat(events.mean(1)[:, numpy.newaxis], events.shape[1], 1)\n",
    "    else:\n",
    "        strata = numpy.asarray(strata)\n",
    "        result = numpy.empty(events.shape)\n",
    "        for x in numpy.unique(strata):\n",
    "            result[:, strata == x] = estimate_binomial_background(events[:, strata == x])\n",
    "        return result"
   ]
  },
  {
   "cell_type": "code",
   "execution_count": 40,
   "metadata": {
    "collapsed": true
   },
   "outputs": [],
   "source": [
    "events_binom = discover.DiscoverMatrix(\n",
    "    pandas.DataFrame(events.events),\n",
    "    pandas.DataFrame(estimate_binomial_background(events.events, strata=cancerTypesMut)))"
   ]
  },
  {
   "cell_type": "code",
   "execution_count": 41,
   "metadata": {
    "collapsed": false
   },
   "outputs": [],
   "source": [
    "result_mutex_binom = discover.pairwise_discover_test(events_binom, chrom)"
   ]
  },
  {
   "cell_type": "code",
   "execution_count": 42,
   "metadata": {
    "collapsed": false
   },
   "outputs": [
    {
     "data": {
      "text/plain": [
       "Pairwise DISCOVER mutual exclusivity test\n",
       "alternative hypothesis: observed overlap is less than expected by chance\n",
       "\n",
       "number of pairs tested: 77305\n",
       "proportion of true null hypotheses: 1.0\n",
       "number of significant pairs at a maximum FDR of 0.01: 3"
      ]
     },
     "execution_count": 44,
     "metadata": {},
     "output_type": "execute_result"
    }
   ],
   "source": [
    "result_mutex_binom"
   ]
  },
  {
   "cell_type": "code",
   "execution_count": 43,
   "metadata": {
    "collapsed": false
   },
   "outputs": [],
   "source": [
    "result_cooc_binom = discover.pairwise_discover_test(events_binom, chrom, \"greater\")"
   ]
  },
  {
   "cell_type": "code",
   "execution_count": 44,
   "metadata": {
    "collapsed": false
   },
   "outputs": [
    {
     "data": {
      "text/plain": [
       "Pairwise DISCOVER co-occurrence test\n",
       "alternative hypothesis: observed overlap is greater than expected by chance\n",
       "\n",
       "number of pairs tested: 77305\n",
       "proportion of true null hypotheses: 0.57484040559\n",
       "number of significant pairs at a maximum FDR of 0.01: 21627"
      ]
     },
     "execution_count": 46,
     "metadata": {},
     "output_type": "execute_result"
    }
   ],
   "source": [
    "result_cooc_binom"
   ]
  }
 ],
 "metadata": {
  "kernelspec": {
   "display_name": "Python 2",
   "language": "python",
   "name": "python2"
  },
  "language_info": {
   "codemirror_mode": {
    "name": "ipython",
    "version": 2
   },
   "file_extension": ".py",
   "mimetype": "text/x-python",
   "name": "python",
   "nbconvert_exporter": "python",
   "pygments_lexer": "ipython2",
   "version": "2.7.11"
  }
 },
 "nbformat": 4,
 "nbformat_minor": 0
}
